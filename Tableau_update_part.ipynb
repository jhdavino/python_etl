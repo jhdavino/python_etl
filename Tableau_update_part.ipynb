{
 "cells": [
  {
   "cell_type": "code",
   "execution_count": 1,
   "metadata": {},
   "outputs": [
    {
     "name": "stdout",
     "output_type": "stream",
     "text": [
      "Requirement already satisfied: tableauserverclient in /anaconda3/envs/py2/lib/python3.6/site-packages (0.8)\n",
      "Requirement already satisfied: requests<3.0,>=2.11 in /anaconda3/envs/py2/lib/python3.6/site-packages (from tableauserverclient) (2.22.0)\n",
      "Requirement already satisfied: chardet<3.1.0,>=3.0.2 in /anaconda3/envs/py2/lib/python3.6/site-packages (from requests<3.0,>=2.11->tableauserverclient) (3.0.4)\n",
      "Requirement already satisfied: urllib3!=1.25.0,!=1.25.1,<1.26,>=1.21.1 in /anaconda3/envs/py2/lib/python3.6/site-packages (from requests<3.0,>=2.11->tableauserverclient) (1.25.3)\n",
      "Requirement already satisfied: certifi>=2017.4.17 in /anaconda3/envs/py2/lib/python3.6/site-packages (from requests<3.0,>=2.11->tableauserverclient) (2019.6.16)\n",
      "Requirement already satisfied: idna<2.9,>=2.5 in /anaconda3/envs/py2/lib/python3.6/site-packages (from requests<3.0,>=2.11->tableauserverclient) (2.8)\n",
      "Note: you may need to restart the kernel to use updated packages.\n"
     ]
    }
   ],
   "source": [
    "pip install tableauserverclient"
   ]
  },
  {
   "cell_type": "code",
   "execution_count": 1,
   "metadata": {},
   "outputs": [],
   "source": [
    "import tableauserverclient as TSC"
   ]
  },
  {
   "cell_type": "code",
   "execution_count": 2,
   "metadata": {},
   "outputs": [
    {
     "ename": "ServerResponseError",
     "evalue": "\n\n\t401001: Signin Error\n\t\tError signing in to Tableau Server",
     "output_type": "error",
     "traceback": [
      "\u001b[0;31m---------------------------------------------------------------------------\u001b[0m",
      "\u001b[0;31mServerResponseError\u001b[0m                       Traceback (most recent call last)",
      "\u001b[0;32m<ipython-input-2-a3e9094ece70>\u001b[0m in \u001b[0;36m<module>\u001b[0;34m\u001b[0m\n\u001b[1;32m      2\u001b[0m \u001b[0mserver\u001b[0m \u001b[0;34m=\u001b[0m \u001b[0mTSC\u001b[0m\u001b[0;34m.\u001b[0m\u001b[0mServer\u001b[0m\u001b[0;34m(\u001b[0m\u001b[0;34m'https://tableau.a.intuit.com'\u001b[0m\u001b[0;34m)\u001b[0m\u001b[0;34m\u001b[0m\u001b[0;34m\u001b[0m\u001b[0m\n\u001b[1;32m      3\u001b[0m \u001b[0;34m\u001b[0m\u001b[0m\n\u001b[0;32m----> 4\u001b[0;31m \u001b[0;32mwith\u001b[0m \u001b[0mserver\u001b[0m\u001b[0;34m.\u001b[0m\u001b[0mauth\u001b[0m\u001b[0;34m.\u001b[0m\u001b[0msign_in\u001b[0m\u001b[0;34m(\u001b[0m\u001b[0mtableau_auth\u001b[0m\u001b[0;34m)\u001b[0m\u001b[0;34m:\u001b[0m\u001b[0;34m\u001b[0m\u001b[0;34m\u001b[0m\u001b[0m\n\u001b[0m\u001b[1;32m      5\u001b[0m     \u001b[0mall_datasources\u001b[0m\u001b[0;34m,\u001b[0m \u001b[0mpagination_item\u001b[0m \u001b[0;34m=\u001b[0m \u001b[0mserver\u001b[0m\u001b[0;34m.\u001b[0m\u001b[0mdatasources\u001b[0m\u001b[0;34m.\u001b[0m\u001b[0mget\u001b[0m\u001b[0;34m(\u001b[0m\u001b[0;34m)\u001b[0m\u001b[0;34m\u001b[0m\u001b[0;34m\u001b[0m\u001b[0m\n\u001b[1;32m      6\u001b[0m     \u001b[0mprint\u001b[0m\u001b[0;34m(\u001b[0m\u001b[0;34m\"\\nThere are {} datasources on site: \"\u001b[0m\u001b[0;34m.\u001b[0m\u001b[0mformat\u001b[0m\u001b[0;34m(\u001b[0m\u001b[0mpagination_item\u001b[0m\u001b[0;34m.\u001b[0m\u001b[0mtotal_available\u001b[0m\u001b[0;34m)\u001b[0m\u001b[0;34m)\u001b[0m\u001b[0;34m\u001b[0m\u001b[0;34m\u001b[0m\u001b[0m\n",
      "\u001b[0;32m/anaconda3/envs/py2/lib/python3.6/site-packages/tableauserverclient/server/endpoint/endpoint.py\u001b[0m in \u001b[0;36mwrapper\u001b[0;34m(self, *args, **kwargs)\u001b[0m\n\u001b[1;32m    114\u001b[0m         \u001b[0;32mdef\u001b[0m \u001b[0mwrapper\u001b[0m\u001b[0;34m(\u001b[0m\u001b[0mself\u001b[0m\u001b[0;34m,\u001b[0m \u001b[0;34m*\u001b[0m\u001b[0margs\u001b[0m\u001b[0;34m,\u001b[0m \u001b[0;34m**\u001b[0m\u001b[0mkwargs\u001b[0m\u001b[0;34m)\u001b[0m\u001b[0;34m:\u001b[0m\u001b[0;34m\u001b[0m\u001b[0;34m\u001b[0m\u001b[0m\n\u001b[1;32m    115\u001b[0m             \u001b[0mself\u001b[0m\u001b[0;34m.\u001b[0m\u001b[0mparent_srv\u001b[0m\u001b[0;34m.\u001b[0m\u001b[0massert_at_least_version\u001b[0m\u001b[0;34m(\u001b[0m\u001b[0mversion\u001b[0m\u001b[0;34m)\u001b[0m\u001b[0;34m\u001b[0m\u001b[0;34m\u001b[0m\u001b[0m\n\u001b[0;32m--> 116\u001b[0;31m             \u001b[0;32mreturn\u001b[0m \u001b[0mfunc\u001b[0m\u001b[0;34m(\u001b[0m\u001b[0mself\u001b[0m\u001b[0;34m,\u001b[0m \u001b[0;34m*\u001b[0m\u001b[0margs\u001b[0m\u001b[0;34m,\u001b[0m \u001b[0;34m**\u001b[0m\u001b[0mkwargs\u001b[0m\u001b[0;34m)\u001b[0m\u001b[0;34m\u001b[0m\u001b[0;34m\u001b[0m\u001b[0m\n\u001b[0m\u001b[1;32m    117\u001b[0m         \u001b[0;32mreturn\u001b[0m \u001b[0mwrapper\u001b[0m\u001b[0;34m\u001b[0m\u001b[0;34m\u001b[0m\u001b[0m\n\u001b[1;32m    118\u001b[0m     \u001b[0;32mreturn\u001b[0m \u001b[0m_decorator\u001b[0m\u001b[0;34m\u001b[0m\u001b[0;34m\u001b[0m\u001b[0m\n",
      "\u001b[0;32m/anaconda3/envs/py2/lib/python3.6/site-packages/tableauserverclient/server/endpoint/auth_endpoint.py\u001b[0m in \u001b[0;36msign_in\u001b[0;34m(self, auth_req)\u001b[0m\n\u001b[1;32m     30\u001b[0m                                                        **self.parent_srv.http_options)\n\u001b[1;32m     31\u001b[0m         \u001b[0mself\u001b[0m\u001b[0;34m.\u001b[0m\u001b[0mparent_srv\u001b[0m\u001b[0;34m.\u001b[0m\u001b[0m_namespace\u001b[0m\u001b[0;34m.\u001b[0m\u001b[0mdetect\u001b[0m\u001b[0;34m(\u001b[0m\u001b[0mserver_response\u001b[0m\u001b[0;34m.\u001b[0m\u001b[0mcontent\u001b[0m\u001b[0;34m)\u001b[0m\u001b[0;34m\u001b[0m\u001b[0;34m\u001b[0m\u001b[0m\n\u001b[0;32m---> 32\u001b[0;31m         \u001b[0mself\u001b[0m\u001b[0;34m.\u001b[0m\u001b[0m_check_status\u001b[0m\u001b[0;34m(\u001b[0m\u001b[0mserver_response\u001b[0m\u001b[0;34m)\u001b[0m\u001b[0;34m\u001b[0m\u001b[0;34m\u001b[0m\u001b[0m\n\u001b[0m\u001b[1;32m     33\u001b[0m         \u001b[0mparsed_response\u001b[0m \u001b[0;34m=\u001b[0m \u001b[0mET\u001b[0m\u001b[0;34m.\u001b[0m\u001b[0mfromstring\u001b[0m\u001b[0;34m(\u001b[0m\u001b[0mserver_response\u001b[0m\u001b[0;34m.\u001b[0m\u001b[0mcontent\u001b[0m\u001b[0;34m)\u001b[0m\u001b[0;34m\u001b[0m\u001b[0;34m\u001b[0m\u001b[0m\n\u001b[1;32m     34\u001b[0m         \u001b[0msite_id\u001b[0m \u001b[0;34m=\u001b[0m \u001b[0mparsed_response\u001b[0m\u001b[0;34m.\u001b[0m\u001b[0mfind\u001b[0m\u001b[0;34m(\u001b[0m\u001b[0;34m'.//t:site'\u001b[0m\u001b[0;34m,\u001b[0m \u001b[0mnamespaces\u001b[0m\u001b[0;34m=\u001b[0m\u001b[0mself\u001b[0m\u001b[0;34m.\u001b[0m\u001b[0mparent_srv\u001b[0m\u001b[0;34m.\u001b[0m\u001b[0mnamespace\u001b[0m\u001b[0;34m)\u001b[0m\u001b[0;34m.\u001b[0m\u001b[0mget\u001b[0m\u001b[0;34m(\u001b[0m\u001b[0;34m'id'\u001b[0m\u001b[0;34m,\u001b[0m \u001b[0;32mNone\u001b[0m\u001b[0;34m)\u001b[0m\u001b[0;34m\u001b[0m\u001b[0;34m\u001b[0m\u001b[0m\n",
      "\u001b[0;32m/anaconda3/envs/py2/lib/python3.6/site-packages/tableauserverclient/server/endpoint/endpoint.py\u001b[0m in \u001b[0;36m_check_status\u001b[0;34m(self, server_response)\u001b[0m\n\u001b[1;32m     66\u001b[0m             \u001b[0;32mraise\u001b[0m \u001b[0mInternalServerError\u001b[0m\u001b[0;34m(\u001b[0m\u001b[0mserver_response\u001b[0m\u001b[0;34m)\u001b[0m\u001b[0;34m\u001b[0m\u001b[0;34m\u001b[0m\u001b[0m\n\u001b[1;32m     67\u001b[0m         \u001b[0;32melif\u001b[0m \u001b[0mserver_response\u001b[0m\u001b[0;34m.\u001b[0m\u001b[0mstatus_code\u001b[0m \u001b[0;32mnot\u001b[0m \u001b[0;32min\u001b[0m \u001b[0mSuccess_codes\u001b[0m\u001b[0;34m:\u001b[0m\u001b[0;34m\u001b[0m\u001b[0;34m\u001b[0m\u001b[0m\n\u001b[0;32m---> 68\u001b[0;31m             \u001b[0;32mraise\u001b[0m \u001b[0mServerResponseError\u001b[0m\u001b[0;34m.\u001b[0m\u001b[0mfrom_response\u001b[0m\u001b[0;34m(\u001b[0m\u001b[0mserver_response\u001b[0m\u001b[0;34m.\u001b[0m\u001b[0mcontent\u001b[0m\u001b[0;34m,\u001b[0m \u001b[0mself\u001b[0m\u001b[0;34m.\u001b[0m\u001b[0mparent_srv\u001b[0m\u001b[0;34m.\u001b[0m\u001b[0mnamespace\u001b[0m\u001b[0;34m)\u001b[0m\u001b[0;34m\u001b[0m\u001b[0;34m\u001b[0m\u001b[0m\n\u001b[0m\u001b[1;32m     69\u001b[0m \u001b[0;34m\u001b[0m\u001b[0m\n\u001b[1;32m     70\u001b[0m     \u001b[0;32mdef\u001b[0m \u001b[0mget_unauthenticated_request\u001b[0m\u001b[0;34m(\u001b[0m\u001b[0mself\u001b[0m\u001b[0;34m,\u001b[0m \u001b[0murl\u001b[0m\u001b[0;34m,\u001b[0m \u001b[0mrequest_object\u001b[0m\u001b[0;34m=\u001b[0m\u001b[0;32mNone\u001b[0m\u001b[0;34m)\u001b[0m\u001b[0;34m:\u001b[0m\u001b[0;34m\u001b[0m\u001b[0;34m\u001b[0m\u001b[0m\n",
      "\u001b[0;31mServerResponseError\u001b[0m: \n\n\t401001: Signin Error\n\t\tError signing in to Tableau Server"
     ]
    }
   ],
   "source": [
    "tableau_auth = TSC.TableauAuth('douaknine', 'Logorn11', site_id = 'FDS')\n",
    "server = TSC.Server('https://tableau.a.intuit.com')\n",
    "\n",
    "with server.auth.sign_in(tableau_auth):\n",
    "    all_datasources, pagination_item = server.datasources.get()\n",
    "    print(\"\\nThere are {} datasources on site: \".format(pagination_item.total_available))\n",
    "    print([datasource.name for datasource in all_datasources])\n",
    "    print([datasource.id for datasource in all_datasources])\n",
    "    "
   ]
  },
  {
   "cell_type": "code",
   "execution_count": 3,
   "metadata": {},
   "outputs": [
    {
     "name": "stdout",
     "output_type": "stream",
     "text": [
      "\n",
      "There are 63 workbooks on site: \n",
      "['AggClassic Uber Dashboard', 'Customer Details Report', 'FI Details Report', 'PBI W2 Bulk Upload Dashboard', 'Categorization Metrics', 'FDP Analytics Activity and Usage Metrics', 'PBI FI Billing and Monitoring Report and Dashboard - Updated', 'FDP Duplicate Transactions', 'FDP Errors Analysis', 'Provider_Details', 'FDP Activity Business Metric', 'FDP Widgets Add Connection Metrics', 'E2E FDP Widgets Add Connection Metrics', 'Agg Classic Monthly Account Types', 'Agg Classic Monthly Customer and Accounts', 'FDP Customer and Accounts Volume', 'FDP Monthly New Customers', 'Quicken 14 Months new', 'Agg Classic New Customer', 'FDP CAF Metrics', 'Customer Authorization Form', 'FDP oAuth Metrics', 'Lloyds Billing', 'Web Authorization', 'Wells Fargo Billing', 'Executive Summary Dashboards', 'FDP Widgets Add Connection Metrics - Prod (Includes Mint)', 'FDP WebAuth Metrics', 'Offering Method Accuracy', 'FI Health', 'Tax 109x Import Metrics_extractFunnel', 'Tax W2 and 109x Upload Metrics_prod', 'FDP Widgets Add Connection Metrics WITH date range', 'IHP to AWS Vertica Thrive Topic Volume Comparisons', 'FI-3208 Mint FDP Widgets Add Connection Metrics', 'PDA metrics v3', 'PDA metrics', 'PDA metrics ver3', 'Reuse Connections Widget Funnel', 'Test_migration', 'FDP Monthly Acccount Type (Non-Normalization) ', 'FDP Accounts and Customers', 'Direct Connect Migration by Financial Institution', 'Transaction Obsolete Report', 'FDP Tickets Dashboards', 'FDMS Participant List Dashboard', 'DASH_test', 'FDP Tickets DAILY I/O', 'FDP Ticket Dashboard - CTS', 'Reuse Connections Widget', 'Test - Temp ', 'FDP Channel Migration Dashboard', 'FDP Channel Migration Dashboard', 'FI-3888 MandT Investigation', '[Test] SonarQube Report', '[Test] FDP Repeated Tickets', 'DC Coverage and Adoption', 'FDP Activity Summary Dashboard', 'FDP WebAuth Metrics Using Derived Table', 'bank_Search', 'Bank Search Clustering Algorithm Results', 'FDP Tickets Dashboards - DEV ACCESS', 'FDP Tickets Dashboards - DEV ACCESS [TEST]']\n",
      "['2b38f13b-b047-4af4-9c7d-de8addcd3e37', 'c7f9867c-dc4d-4e8e-82a8-9fc3b0bc6c1e', '7ebe212a-fca5-4c6c-a83a-d7a54e99b9ac', 'fc5a473e-e242-44e2-908b-6a28f844e1a8', 'e7ce313e-7f84-4cb2-822a-5680984798f9', '6f4fd418-6c1f-4f34-afc6-082f29e02a1a', 'e61f68bd-f0b6-409c-975d-299eda831b7c', '90f6b2e1-efa4-43aa-8a60-98f33a46486a', '50274f19-e0be-4bc1-98bd-296818d354db', 'ca0c6ec2-30d2-4b85-9a7b-0ec39a762e85', '63694866-3966-4602-b690-693e0935f18f', '6f5d943f-edf3-40fd-a601-5001a6a045ed', 'e051ef9b-f1e5-4508-bc7a-35d9e406b633', '1a9a052e-efca-4cee-a7e5-002f94bd27ac', '6db2fb11-f9b1-455d-b808-5334d90d88e2', 'e031103a-8e41-4653-8745-e34d708d5b6b', '587cb300-2dfe-4e20-a27c-89ae6fee0f8a', '85f8c7fd-a5d9-45d6-9a02-ab3c82b60e85', '5dab09bd-851e-4260-a6ed-a1b8eb5f7437', 'cb86c9b3-a2f1-4ec5-9c05-9456162e817d', 'f8d49bd7-d4db-4407-8eb8-6a62d6cfb281', '5f744fc0-60e2-4527-8190-33c3e91cde68', 'b52058a9-7e92-4132-b521-9ca76b698433', '38ddffee-4b89-46c1-b627-b97f09da80e3', 'ea22a88f-d53d-4871-99cc-528d72d3bd16', '572616d8-7b60-4a98-9a6a-ba4306ee6941', 'f12b1510-ef8f-4066-ae69-b71400b167a6', '67967584-25bf-4790-b92e-47a8e1ea2b5f', '647ba3f4-b370-4519-b322-8d60c840339d', 'db4c7df7-cc71-4c47-8ec0-475fa901ed47', '33c2a36d-eddd-42a8-b55c-85160b211423', 'baf0789a-cb36-46f1-837a-c2459d54035e', 'aa350027-9547-4620-a4e7-5879e6218907', '4b4e5b8b-7dcf-451b-8a2b-d0f0f678bab4', '03e9615a-c81f-4ba8-a899-3fb9c2c1c32c', 'e092b82a-96bf-49e6-883e-ca6869f11d60', '03ec1b7e-6277-41be-ab6e-7fa5bd1b2aac', '686b3f13-b4b3-4ff3-ac23-fc69112a22ba', '5931cd94-f257-404f-bcf0-b5aa65adec16', '06d0872d-fcb5-4d32-b22a-84276ce62dbb', '31656748-f219-4f4c-9e5e-2cbb98fb1919', '5f2fe971-a2fd-4f87-a0b5-261806e3f40f', '9c287474-8d8f-456b-9de6-8d343eaf7e56', '0b2c58c9-b514-4978-b2e5-95d99785434c', 'ac076c97-73bb-4c80-95b3-924494e12c44', 'c5ee854a-b1ce-4173-9e1f-c498efcf5f07', '99f4cd4a-5621-4062-9e7a-862f6b2b2e39', '37aff87d-4dca-4f23-bba5-975f69daefe4', 'bf33b515-30c6-46df-9019-6940e47b81f8', 'c430014e-4495-4936-aab5-1bca61fd8899', '321ff5ed-a114-4d1a-9e86-b805a3fff0dd', '47fff20e-b56c-416e-966e-c004a10bb98e', '8b7e6659-b90a-4ed4-aa81-3979b2607ae1', 'ac5eb089-7a19-4493-adb1-85fa7636e020', 'ea297abe-e1ae-44dd-8edc-b32d6f3eeb3e', '009c4e91-2681-4172-86db-041eb458412e', '77b637d8-337a-43ee-8749-d819e5b9d306', '3fb74627-31b7-4b88-99ee-48fc3559ffa3', '532b7aee-580e-4975-b968-ec7a441f5d35', '1523ef7c-a57e-4f3b-baaa-1e7dd75bd846', '86beb9a6-246b-4644-ae3a-ea81d64b957c', '02451361-b8ac-4542-a3c0-dca6e054e202', 'ca63e2ef-0f21-4d5b-b616-2c8338f644ca']\n"
     ]
    }
   ],
   "source": [
    "tableau_auth = TSC.TableauAuth('douaknine', 'Logorn11', site_id = 'FDS')\n",
    "server = TSC.Server('https://tableau.a.intuit.com')\n",
    "\n",
    "with server.auth.sign_in(tableau_auth):\n",
    "    all_wb, pagination_item = server.workbooks.get()\n",
    "    print(\"\\nThere are {} workbooks on site: \".format(pagination_item.total_available))\n",
    "    print([datasource.name for datasource in all_wb])\n",
    "    print([datasource.id for datasource in all_wb])"
   ]
  },
  {
   "cell_type": "code",
   "execution_count": 2,
   "metadata": {},
   "outputs": [
    {
     "name": "stdout",
     "output_type": "stream",
     "text": [
      "connection made\n",
      "\n",
      "2.8\n",
      "refresh complete\n",
      "\n",
      "connection closed\n",
      "\n"
     ]
    }
   ],
   "source": [
    "tableau_auth = TSC.TableauAuth('douaknine', 'Logorn12', site_id = 'FDS')\n",
    "server = TSC.Server('https://tableau.a.intuit.com',use_server_version = True)\n",
    "server.auth.sign_in(tableau_auth)\n",
    "print('connection made\\n')\n",
    "print(server.version)\n",
    "server.workbooks.refresh(workbook_id='ac076c97-73bb-4c80-95b3-924494e12c44')\n",
    "server.workbooks.refresh(workbook_id='37aff87d-4dca-4f23-bba5-975f69daefe4')\n",
    "server.workbooks.refresh(workbook_id='bf33b515-30c6-46df-9019-6940e47b81f8')\n",
    "server.workbooks.refresh(workbook_id='02451361-b8ac-4542-a3c0-dca6e054e202')\n",
    "'37aff87d-4dca-4f23-bba5-975f69daefe4'\n",
    "server.workbooks.refresh(workbook_id='37aff87d-4dca-4f23-bba5-975f69daefe4')\n",
    "print('refresh complete\\n')\n",
    "\n",
    "server.auth.sign_out()\n",
    "print('connection closed\\n')"
   ]
  },
  {
   "cell_type": "code",
   "execution_count": 1,
   "metadata": {},
   "outputs": [
    {
     "ename": "SyntaxError",
     "evalue": "invalid syntax (<ipython-input-1-6e0537acdd69>, line 1)",
     "output_type": "error",
     "traceback": [
      "\u001b[0;36m  File \u001b[0;32m\"<ipython-input-1-6e0537acdd69>\"\u001b[0;36m, line \u001b[0;32m1\u001b[0m\n\u001b[0;31m    sudo python setup.py install\u001b[0m\n\u001b[0m              ^\u001b[0m\n\u001b[0;31mSyntaxError\u001b[0m\u001b[0;31m:\u001b[0m invalid syntax\n"
     ]
    }
   ],
   "source": [
    "sudo python setup.py install"
   ]
  },
  {
   "cell_type": "code",
   "execution_count": 2,
   "metadata": {},
   "outputs": [],
   "source": [
    "from tableausdk import *\n",
    "from tableausdk.HyperExtract import *"
   ]
  },
  {
   "cell_type": "code",
   "execution_count": null,
   "metadata": {},
   "outputs": [],
   "source": []
  }
 ],
 "metadata": {
  "kernelspec": {
   "display_name": "Python 3",
   "language": "python",
   "name": "python3"
  },
  "language_info": {
   "codemirror_mode": {
    "name": "ipython",
    "version": 3
   },
   "file_extension": ".py",
   "mimetype": "text/x-python",
   "name": "python",
   "nbconvert_exporter": "python",
   "pygments_lexer": "ipython3",
   "version": "3.6.8"
  }
 },
 "nbformat": 4,
 "nbformat_minor": 2
}
